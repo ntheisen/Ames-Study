{
 "cells": [
  {
   "cell_type": "markdown",
   "metadata": {},
   "source": [
    "### Load the Data"
   ]
  },
  {
   "cell_type": "code",
   "execution_count": 1,
   "metadata": {
    "collapsed": true
   },
   "outputs": [],
   "source": [
    "import numpy as np\n",
    "import pandas as pd\n",
    "import matplotlib.pyplot as plt\n",
    "%matplotlib inline\n",
    "import seaborn as sns\n",
    "from scipy import stats\n",
    "import warnings\n",
    "warnings.filterwarnings('ignore')\n",
    "import os"
   ]
  },
  {
   "cell_type": "code",
   "execution_count": 2,
   "metadata": {
    "collapsed": false
   },
   "outputs": [],
   "source": [
    "#bring in both the train and test data sets\n",
    "os.chdir('../')\n",
    "train = pd.read_csv('data/train.csv')\n",
    "test = pd.read_csv('data/test.csv')"
   ]
  },
  {
   "cell_type": "code",
   "execution_count": 3,
   "metadata": {
    "collapsed": false
   },
   "outputs": [
    {
     "data": {
      "text/plain": [
       "(1460, 81)"
      ]
     },
     "execution_count": 3,
     "metadata": {},
     "output_type": "execute_result"
    }
   ],
   "source": [
    "train.shape"
   ]
  },
  {
   "cell_type": "code",
   "execution_count": 4,
   "metadata": {
    "collapsed": false
   },
   "outputs": [
    {
     "data": {
      "text/plain": [
       "(1459, 80)"
      ]
     },
     "execution_count": 4,
     "metadata": {},
     "output_type": "execute_result"
    }
   ],
   "source": [
    "test.shape"
   ]
  },
  {
   "cell_type": "code",
   "execution_count": 5,
   "metadata": {
    "collapsed": true
   },
   "outputs": [],
   "source": [
    "train_index = pd.DataFrame(train.index)\n",
    "test_index = pd.DataFrame(test.index)"
   ]
  },
  {
   "cell_type": "code",
   "execution_count": 6,
   "metadata": {
    "collapsed": false
   },
   "outputs": [
    {
     "data": {
      "text/plain": [
       "Index(['Id', 'MSSubClass', 'MSZoning', 'LotFrontage', 'LotArea', 'Street',\n",
       "       'Alley', 'LotShape', 'LandContour', 'Utilities', 'LotConfig',\n",
       "       'LandSlope', 'Neighborhood', 'Condition1', 'Condition2', 'BldgType',\n",
       "       'HouseStyle', 'OverallQual', 'OverallCond', 'YearBuilt', 'YearRemodAdd',\n",
       "       'RoofStyle', 'RoofMatl', 'Exterior1st', 'Exterior2nd', 'MasVnrType',\n",
       "       'MasVnrArea', 'ExterQual', 'ExterCond', 'Foundation', 'BsmtQual',\n",
       "       'BsmtCond', 'BsmtExposure', 'BsmtFinType1', 'BsmtFinSF1',\n",
       "       'BsmtFinType2', 'BsmtFinSF2', 'BsmtUnfSF', 'TotalBsmtSF', 'Heating',\n",
       "       'HeatingQC', 'CentralAir', 'Electrical', '1stFlrSF', '2ndFlrSF',\n",
       "       'LowQualFinSF', 'GrLivArea', 'BsmtFullBath', 'BsmtHalfBath', 'FullBath',\n",
       "       'HalfBath', 'BedroomAbvGr', 'KitchenAbvGr', 'KitchenQual',\n",
       "       'TotRmsAbvGrd', 'Functional', 'Fireplaces', 'FireplaceQu', 'GarageType',\n",
       "       'GarageYrBlt', 'GarageFinish', 'GarageCars', 'GarageArea', 'GarageQual',\n",
       "       'GarageCond', 'PavedDrive', 'WoodDeckSF', 'OpenPorchSF',\n",
       "       'EnclosedPorch', '3SsnPorch', 'ScreenPorch', 'PoolArea', 'PoolQC',\n",
       "       'Fence', 'MiscFeature', 'MiscVal', 'MoSold', 'YrSold', 'SaleType',\n",
       "       'SaleCondition', 'SalePrice'],\n",
       "      dtype='object')"
      ]
     },
     "execution_count": 6,
     "metadata": {},
     "output_type": "execute_result"
    }
   ],
   "source": [
    "train.columns"
   ]
  },
  {
   "cell_type": "code",
   "execution_count": 7,
   "metadata": {
    "collapsed": false
   },
   "outputs": [
    {
     "data": {
      "text/plain": [
       "Index(['1stFlrSF', '2ndFlrSF', '3SsnPorch', 'Alley', 'BedroomAbvGr',\n",
       "       'BldgType', 'BsmtCond', 'BsmtExposure', 'BsmtFinSF1', 'BsmtFinSF2',\n",
       "       'BsmtFinType1', 'BsmtFinType2', 'BsmtFullBath', 'BsmtHalfBath',\n",
       "       'BsmtQual', 'BsmtUnfSF', 'CentralAir', 'Condition1', 'Condition2',\n",
       "       'Electrical', 'EnclosedPorch', 'ExterCond', 'ExterQual', 'Exterior1st',\n",
       "       'Exterior2nd', 'Fence', 'FireplaceQu', 'Fireplaces', 'Foundation',\n",
       "       'FullBath', 'Functional', 'GarageArea', 'GarageCars', 'GarageCond',\n",
       "       'GarageFinish', 'GarageQual', 'GarageType', 'GarageYrBlt', 'GrLivArea',\n",
       "       'HalfBath', 'Heating', 'HeatingQC', 'HouseStyle', 'Id', 'KitchenAbvGr',\n",
       "       'KitchenQual', 'LandContour', 'LandSlope', 'LotArea', 'LotConfig',\n",
       "       'LotFrontage', 'LotShape', 'LowQualFinSF', 'MSSubClass', 'MSZoning',\n",
       "       'MasVnrArea', 'MasVnrType', 'MiscFeature', 'MiscVal', 'MoSold',\n",
       "       'Neighborhood', 'OpenPorchSF', 'OverallCond', 'OverallQual',\n",
       "       'PavedDrive', 'PoolArea', 'PoolQC', 'RoofMatl', 'RoofStyle',\n",
       "       'SaleCondition', 'SalePrice', 'SaleType', 'ScreenPorch', 'Street',\n",
       "       'TotRmsAbvGrd', 'TotalBsmtSF', 'Utilities', 'WoodDeckSF', 'YearBuilt',\n",
       "       'YearRemodAdd', 'YrSold'],\n",
       "      dtype='object')"
      ]
     },
     "execution_count": 7,
     "metadata": {},
     "output_type": "execute_result"
    }
   ],
   "source": [
    "train.columns.sort_values()"
   ]
  },
  {
   "cell_type": "markdown",
   "metadata": {},
   "source": [
    "### Getting to know the data"
   ]
  },
  {
   "cell_type": "code",
   "execution_count": 8,
   "metadata": {
    "collapsed": false
   },
   "outputs": [
    {
     "data": {
      "text/plain": [
       "<matplotlib.axes._subplots.AxesSubplot at 0xa9276a0>"
      ]
     },
     "execution_count": 8,
     "metadata": {},
     "output_type": "execute_result"
    },
    {
     "data": {
      "image/png": "[encoded data removed]",
      "text/plain": [
       "<matplotlib.figure.Figure at 0xa914dd8>"
      ]
     },
     "metadata": {},
     "output_type": "display_data"
    }
   ],
   "source": [
    "sns.distplot(train['SalePrice'],fit=stats.norm)"
   ]
  },
  {
   "cell_type": "markdown",
   "metadata": {},
   "source": [
    "The SalePrice column is the target variable, and it seems to be positively skewed.  I will have to do a log transform to normalize this to better fit in a model"
   ]
  },
  {
   "cell_type": "code",
   "execution_count": 9,
   "metadata": {
    "collapsed": false
   },
   "outputs": [
    {
     "data": {
      "text/plain": [
       "<seaborn.axisgrid.JointGrid at 0xab6a240>"
      ]
     },
     "execution_count": 9,
     "metadata": {},
     "output_type": "execute_result"
    },
    {
     "data": {
      "image/png": "[encoded data removed]",
      "text/plain": [
       "<matplotlib.figure.Figure at 0xab4f828>"
      ]
     },
     "metadata": {},
     "output_type": "display_data"
    }
   ],
   "source": [
    "sns.jointplot(x='GrLivArea',y='SalePrice',data=train)"
   ]
  },
  {
   "cell_type": "markdown",
   "metadata": {},
   "source": [
    "There are two instances which have well over 4000 sq ft of GrLivArea but sold for less than $200k.  These are probably outliers, so I will remove them from the data"
   ]
  },
  {
   "cell_type": "code",
   "execution_count": 8,
   "metadata": {
    "collapsed": false
   },
   "outputs": [],
   "source": [
    "train.drop(train[(train['GrLivArea']>4000) & (train['SalePrice']<200000)].index,inplace=True)"
   ]
  },
  {
   "cell_type": "code",
   "execution_count": 9,
   "metadata": {
    "collapsed": false
   },
   "outputs": [],
   "source": [
    "#save the new SalePrice column\n",
    "sale_price = train['SalePrice']\n",
    "#save the sizes and the Id columns\n",
    "ntrain = train.shape[0]\n",
    "ntest = test.shape[0]\n",
    "train_id = train['Id']\n",
    "test_id = pd.DataFrame(test['Id'])  "
   ]
  },
  {
   "cell_type": "code",
   "execution_count": 12,
   "metadata": {
    "collapsed": false
   },
   "outputs": [
    {
     "data": {
      "text/plain": [
       "<matplotlib.axes._subplots.AxesSubplot at 0xbea0d68>"
      ]
     },
     "execution_count": 12,
     "metadata": {},
     "output_type": "execute_result"
    },
    {
     "data": {
      "image/png": "[encoded data removed]",
      "text/plain": [
       "<matplotlib.figure.Figure at 0xbe79eb8>"
      ]
     },
     "metadata": {},
     "output_type": "display_data"
    }
   ],
   "source": [
    "sns.boxplot(x='OverallQual',y='SalePrice',data=train)"
   ]
  },
  {
   "cell_type": "markdown",
   "metadata": {},
   "source": [
    "It seems like GrLivArea is a strong indicator of SalePrice.  OverallQual is also a decent indicator, but not quite as strong of an indicator since there is a range with a given level of quality. <br>\n",
    "Let's look at a correlation heatmap of the numeric columns to get an idea of what other variables might be related"
   ]
  },
  {
   "cell_type": "code",
   "execution_count": 13,
   "metadata": {
    "collapsed": false
   },
   "outputs": [
    {
     "data": {
      "text/plain": [
       "<matplotlib.axes._subplots.AxesSubplot at 0xc25ac88>"
      ]
     },
     "execution_count": 13,
     "metadata": {},
     "output_type": "execute_result"
    },
    {
     "data": {
      "image/png": "[encoded data removed]",
      "text/plain": [
       "<matplotlib.figure.Figure at 0xc25a0f0>"
      ]
     },
     "metadata": {},
     "output_type": "display_data"
    }
   ],
   "source": [
    "plt.figure(figsize=(10,8))\n",
    "sns.heatmap(train.corr())"
   ]
  },
  {
   "cell_type": "markdown",
   "metadata": {},
   "source": [
    "It looks like OverallQual and GrLivArea are closely correlated, which was observed above.  However, there are some other things that seem correlated.  First are TotalBsmtSF and 1stFlrSF, which are somewhat correlated with GrLiveArea.  Second, GarageCars and GarageArea are also correlated with SalePrice, but those two columns are strongly correlated with each other.  Third, FullBath and TotRmsAbvGrd are somewhat correlated with SalePrice.  These observations simply give me an idea of what numeric columns in the model may be significant factors in determining the SalePrice."
   ]
  },
  {
   "cell_type": "markdown",
   "metadata": {},
   "source": [
    "Let's now combine the train and test data sets and see which columns have null values.  From there, I will either fill in nulls with an appropriate arbitrary value or impute some sort of value based on other characteristics"
   ]
  },
  {
   "cell_type": "markdown",
   "metadata": {},
   "source": [
    "### Cleaning up the Data"
   ]
  },
  {
   "cell_type": "code",
   "execution_count": 10,
   "metadata": {
    "collapsed": false
   },
   "outputs": [],
   "source": [
    "#we are not adding the Id columns (arbitrary sequence) or the SalePrice column (target variable)\n",
    "all_data = pd.concat([train.loc[:,'MSSubClass':'SaleCondition'],test.loc[:,'MSSubClass':'SaleCondition']])"
   ]
  },
  {
   "cell_type": "code",
   "execution_count": 11,
   "metadata": {
    "collapsed": false
   },
   "outputs": [
    {
     "data": {
      "text/plain": [
       "(2917, 79)"
      ]
     },
     "execution_count": 11,
     "metadata": {},
     "output_type": "execute_result"
    }
   ],
   "source": [
    "all_data.shape"
   ]
  },
  {
   "cell_type": "code",
   "execution_count": 12,
   "metadata": {
    "collapsed": false
   },
   "outputs": [
    {
     "data": {
      "text/plain": [
       "PoolQC          2908\n",
       "MiscFeature     2812\n",
       "Alley           2719\n",
       "Fence           2346\n",
       "FireplaceQu     1420\n",
       "LotFrontage      486\n",
       "GarageCond       159\n",
       "GarageQual       159\n",
       "GarageYrBlt      159\n",
       "GarageFinish     159\n",
       "GarageType       157\n",
       "BsmtCond          82\n",
       "BsmtExposure      82\n",
       "BsmtQual          81\n",
       "BsmtFinType2      80\n",
       "BsmtFinType1      79\n",
       "MasVnrType        24\n",
       "MasVnrArea        23\n",
       "MSZoning           4\n",
       "BsmtHalfBath       2\n",
       "Utilities          2\n",
       "Functional         2\n",
       "BsmtFullBath       2\n",
       "BsmtFinSF2         1\n",
       "BsmtFinSF1         1\n",
       "Exterior2nd        1\n",
       "BsmtUnfSF          1\n",
       "TotalBsmtSF        1\n",
       "Exterior1st        1\n",
       "SaleType           1\n",
       "Electrical         1\n",
       "KitchenQual        1\n",
       "GarageArea         1\n",
       "GarageCars         1\n",
       "OverallQual        0\n",
       "dtype: int64"
      ]
     },
     "execution_count": 12,
     "metadata": {},
     "output_type": "execute_result"
    }
   ],
   "source": [
    "all_data.isnull().sum().sort_values(ascending=False).head(35)"
   ]
  },
  {
   "cell_type": "markdown",
   "metadata": {},
   "source": [
    "There are 34 columns with at least 1 null value.  Null values often cause problems in ML models; plus, there might be an easy way to fill in the nulls for many of these columns, so I don't want to waste an opportunity to potentially make the model more accurate.  So, I will try to fill in all null values.  If it's not possible/practical on some columns, then I will drop those columns altogether"
   ]
  },
  {
   "cell_type": "code",
   "execution_count": 17,
   "metadata": {
    "collapsed": true
   },
   "outputs": [],
   "source": [
    "#save copy in case of errors below\n",
    "all_data_backup = all_data\n",
    "all_data.reset_index(inplace=True,drop=True)"
   ]
  },
  {
   "cell_type": "code",
   "execution_count": 18,
   "metadata": {
    "collapsed": true
   },
   "outputs": [],
   "source": [
    "#Fill in the numeric column nulls with zeros \n",
    "all_data['GarageArea'].fillna(0,inplace=True)\n",
    "all_data['GarageCars'].fillna(0,inplace=True)\n",
    "all_data['BsmtFinSF1'].fillna(0,inplace=True)\n",
    "all_data['BsmtFinSF2'].fillna(0,inplace=True)\n",
    "all_data['BsmtUnfSF'].fillna(0,inplace=True)\n",
    "all_data['TotalBsmtSF'].fillna(0,inplace=True)\n",
    "all_data['BsmtFullBath'].fillna(0,inplace=True)\n",
    "all_data['BsmtHalfBath'].fillna(0,inplace=True)\n",
    "all_data['MasVnrArea'].fillna(0,inplace=True)"
   ]
  },
  {
   "cell_type": "code",
   "execution_count": 19,
   "metadata": {
    "collapsed": true
   },
   "outputs": [],
   "source": [
    "#Map over the quality categories to numeric values.  Kudos to source 2 for this idea\n",
    "qual_dict = {None: 0, 'Po': 1, 'Fa': 2, 'TA': 3, 'Gd': 4, 'Ex': 5}\n",
    "all_data['ExterQual'] = all_data['ExterQual'].map(qual_dict).astype(int)\n",
    "all_data['ExterCond'] = all_data['ExterCond'].map(qual_dict).astype(int)\n",
    "all_data['FireplaceQu'] = all_data['FireplaceQu'].map(qual_dict).astype(int)\n",
    "all_data['BsmtQual'] = all_data['BsmtQual'].map(qual_dict).astype(int)\n",
    "all_data['BsmtCond'] = all_data['BsmtCond'].map(qual_dict).astype(int)\n",
    "all_data['GarageQual'] = all_data['GarageQual'].map(qual_dict).astype(int)\n",
    "all_data['GarageCond'] = all_data['GarageCond'].map(qual_dict).astype(int)\n",
    "all_data['HeatingQC'] = all_data['HeatingQC'].map(qual_dict).astype(int)\n",
    "all_data['KitchenQual'] = all_data['KitchenQual'].map(qual_dict).astype(int)\n",
    "all_data['PoolQC'] = all_data['PoolQC'].map(qual_dict).astype(int)"
   ]
  },
  {
   "cell_type": "code",
   "execution_count": 20,
   "metadata": {
    "collapsed": true
   },
   "outputs": [],
   "source": [
    "#Convert the MSSubClass to a string, not really a numeric field and a ML algo will misinterpret if numeric\n",
    "all_data['MSSubClass'] = all_data['MSSubClass'].astype(str)"
   ]
  },
  {
   "cell_type": "code",
   "execution_count": 21,
   "metadata": {
    "collapsed": true
   },
   "outputs": [],
   "source": [
    "#fill in the nulls for GarageType and GarageFinish, then drop GarageYrBlt since there isn't a great way to impute\n",
    "all_data['GarageType'].fillna('None',inplace=True)\n",
    "all_data['GarageFinish'].fillna('None',inplace=True)\n",
    "all_data.drop('GarageYrBlt',inplace=True,axis=1)"
   ]
  },
  {
   "cell_type": "code",
   "execution_count": 22,
   "metadata": {
    "collapsed": true
   },
   "outputs": [],
   "source": [
    "#fill in missing values for Alley\n",
    "all_data['Alley'].fillna('None',inplace=True)\n",
    "\n",
    "#somewhat arbitrary assigment to fence\n",
    "all_data['Fence'] = all_data['Fence'].map({None: 0, 'MnWw': 1, 'MnPrv': 2, 'GdWo': 3, 'GdPrv': 4}).astype(int)\n",
    "\n",
    "#setting the Misc Feature to a 1 or 0\n",
    "all_data['MiscFeature'] = all_data['MiscFeature'].map({None: 0, 'Shed': 1, 'Gar2': 1, 'Othr': 1, 'TenC': 1, 'Elev': 1}).astype(int)"
   ]
  },
  {
   "cell_type": "code",
   "execution_count": 23,
   "metadata": {
    "collapsed": false
   },
   "outputs": [],
   "source": [
    "#the house with a null Electrical was built 2006, so I will impute the standard circuit breaker value\n",
    "all_data['Electrical'].fillna('SBrkr',inplace=True)\n",
    "\n",
    "#the houses that have a null Utilities are built in 1910 and 1952, so they might legitimately have fewer Utilities\n",
    "#I am going to impute the NoSeWa value for these two\n",
    "all_data['Utilities'].fillna('NoSeWa',inplace=True)\n",
    "\n",
    "#Functional is tricky.  I looked at the various other attributes of the two with missing values\n",
    "#and inserted what I thought was appropriate\n",
    "all_data['Functional'].fillna('Sev',inplace=True)\n",
    "\n",
    "#inserting None in MasVnrType since that is most common and a null value seems to indicate none\n",
    "all_data['MasVnrType'].fillna('None',inplace=True)"
   ]
  },
  {
   "cell_type": "code",
   "execution_count": 24,
   "metadata": {
    "collapsed": false
   },
   "outputs": [],
   "source": [
    "#Imputing the median value of lot frontage for a home given its neighborhood.  Major kudos to source 2\n",
    "lot_frontage_by_neighborhood = all_data['LotFrontage'].groupby(all_data['Neighborhood'])\n",
    "for key, value in lot_frontage_by_neighborhood:\n",
    "    index = (all_data['Neighborhood'] == key) & (all_data['LotFrontage'].isnull())\n",
    "    all_data.loc[index, 'LotFrontage'] = value.median()"
   ]
  },
  {
   "cell_type": "code",
   "execution_count": 25,
   "metadata": {
    "collapsed": true
   },
   "outputs": [],
   "source": [
    "#this is only a guess based on the most common values of these columns, only affects 1 record\n",
    "all_data['Exterior1st'].fillna('VinylSd',inplace=True)\n",
    "all_data['Exterior2nd'].fillna('VinylSd',inplace=True)\n",
    "\n",
    "#also a guess based on most common value of this column, only affects 1 record\n",
    "all_data['SaleType'].fillna('WD',inplace=True)"
   ]
  },
  {
   "cell_type": "code",
   "execution_count": 26,
   "metadata": {
    "collapsed": false
   },
   "outputs": [
    {
     "data": {
      "text/plain": [
       "1913     IDOTRR\n",
       "2214     IDOTRR\n",
       "2248     IDOTRR\n",
       "2902    Mitchel\n",
       "Name: Neighborhood, dtype: object"
      ]
     },
     "execution_count": 26,
     "metadata": {},
     "output_type": "execute_result"
    }
   ],
   "source": [
    "all_data[all_data['MSZoning'].isnull()]['Neighborhood']"
   ]
  },
  {
   "cell_type": "code",
   "execution_count": 27,
   "metadata": {
    "collapsed": false
   },
   "outputs": [],
   "source": [
    "#insert what my best guess for the zoning is based on the neighborhood and the most common values respectively\n",
    "all_data.loc[1913,'MSZoning'] = 'RM'\n",
    "all_data.loc[2214,'MSZoning'] = 'RM'\n",
    "all_data.loc[2248,'MSZoning'] = 'RM'\n",
    "all_data.loc[2902,'MSZoning'] = 'RL'"
   ]
  },
  {
   "cell_type": "code",
   "execution_count": 28,
   "metadata": {
    "collapsed": true
   },
   "outputs": [],
   "source": [
    "#insert arbitrary None value for nulls, since these houses apparently do not have basements\n",
    "all_data['BsmtExposure'].fillna('None',inplace=True)\n",
    "all_data['BsmtFinType1'].fillna('None',inplace=True)\n",
    "all_data['BsmtFinType2'].fillna('None',inplace=True)"
   ]
  },
  {
   "cell_type": "code",
   "execution_count": 29,
   "metadata": {
    "collapsed": false,
    "scrolled": true
   },
   "outputs": [
    {
     "data": {
      "text/plain": [
       "SaleCondition    0\n",
       "Foundation       0\n",
       "RoofMatl         0\n",
       "Exterior1st      0\n",
       "Exterior2nd      0\n",
       "MasVnrType       0\n",
       "MasVnrArea       0\n",
       "ExterQual        0\n",
       "ExterCond        0\n",
       "BsmtQual         0\n",
       "dtype: int64"
      ]
     },
     "execution_count": 29,
     "metadata": {},
     "output_type": "execute_result"
    }
   ],
   "source": [
    "#double check to make sure no columns have null values\n",
    "all_data.isnull().sum().sort_values(ascending=False).head(10)"
   ]
  },
  {
   "cell_type": "markdown",
   "metadata": {},
   "source": [
    "### Normalizing Data"
   ]
  },
  {
   "cell_type": "markdown",
   "metadata": {},
   "source": [
    "Sometimes numerical data will be skewed (i.e. not normally distributed), so normalization to get the data to \"approximately normal\" can help improve the accuracy of a model.  In this case, I will examine the skewness of the numerical fields and then normalize the data which has a high skew with a log(x+1) function- log1p"
   ]
  },
  {
   "cell_type": "code",
   "execution_count": 31,
   "metadata": {
    "collapsed": false
   },
   "outputs": [],
   "source": [
    "numeric_features = all_data.dtypes[all_data.dtypes != object].index"
   ]
  },
  {
   "cell_type": "code",
   "execution_count": 32,
   "metadata": {
    "collapsed": false
   },
   "outputs": [],
   "source": [
    "skewed = all_data[numeric_features].apply(lambda x: stats.skew(x.astype(float)))\n",
    "skewed = skewed[abs(skewed) > 1].index  # +/- 1 value for skewness is generally considered to be highly skewed\n",
    "all_data[skewed] = np.log1p(all_data[skewed])  #normalize the columns that are highly skewed"
   ]
  },
  {
   "cell_type": "markdown",
   "metadata": {},
   "source": [
    "Now that the data is normalized, I will use Standard Scaler to scale the data which improve the performance of the data in a Sci-Kit model"
   ]
  },
  {
   "cell_type": "code",
   "execution_count": 31,
   "metadata": {
    "collapsed": true
   },
   "outputs": [],
   "source": [
    "from sklearn.preprocessing import StandardScaler"
   ]
  },
  {
   "cell_type": "code",
   "execution_count": 32,
   "metadata": {
    "collapsed": false
   },
   "outputs": [],
   "source": [
    "scaler = StandardScaler()\n",
    "scaler.fit(all_data[numeric_features])\n",
    "scaled = scaler.transform(all_data[numeric_features])\n",
    "for i, col in enumerate(numeric_features):\n",
    "    all_data[col] = scaled[:,i]"
   ]
  },
  {
   "cell_type": "markdown",
   "metadata": {},
   "source": [
    "Finally, we will create the dummy variables so that the data can be processed by the ML model"
   ]
  },
  {
   "cell_type": "code",
   "execution_count": 34,
   "metadata": {
    "collapsed": true
   },
   "outputs": [],
   "source": [
    "#create dummy variables for categorical features\n",
    "all_data = pd.get_dummies(all_data)"
   ]
  },
  {
   "cell_type": "code",
   "execution_count": 35,
   "metadata": {
    "collapsed": false
   },
   "outputs": [
    {
     "data": {
      "text/plain": [
       "(2917, 267)"
      ]
     },
     "execution_count": 35,
     "metadata": {},
     "output_type": "execute_result"
    }
   ],
   "source": [
    "all_data.shape"
   ]
  },
  {
   "cell_type": "markdown",
   "metadata": {},
   "source": [
    "### Building and Testing Models"
   ]
  },
  {
   "cell_type": "code",
   "execution_count": 30,
   "metadata": {
    "collapsed": true
   },
   "outputs": [],
   "source": [
    "from sklearn.model_selection import cross_val_score\n",
    "from sklearn.linear_model import Lasso, LassoCV, LinearRegression"
   ]
  },
  {
   "cell_type": "code",
   "execution_count": 36,
   "metadata": {
    "collapsed": false
   },
   "outputs": [],
   "source": [
    "#create variables for models\n",
    "X_train = all_data[:ntrain]\n",
    "X_test = all_data[ntrain:]\n",
    "y = train['SalePrice']"
   ]
  },
  {
   "cell_type": "code",
   "execution_count": 38,
   "metadata": {
    "collapsed": true
   },
   "outputs": [],
   "source": [
    "#cross validation function.  Kudos to source 1\n",
    "def cross_val(model):\n",
    "    return np.sqrt(-cross_val_score(model,X_train,y,scoring='neg_mean_squared_error',cv=5))"
   ]
  },
  {
   "cell_type": "code",
   "execution_count": 37,
   "metadata": {
    "collapsed": false
   },
   "outputs": [
    {
     "data": {
      "text/html": [
       "<div>\n",
       "<table border=\"1\" class=\"dataframe\">\n",
       "  <thead>\n",
       "    <tr style=\"text-align: right;\">\n",
       "      <th></th>\n",
       "      <th>LotFrontage</th>\n",
       "      <th>LotArea</th>\n",
       "      <th>OverallQual</th>\n",
       "      <th>OverallCond</th>\n",
       "      <th>YearBuilt</th>\n",
       "      <th>YearRemodAdd</th>\n",
       "      <th>MasVnrArea</th>\n",
       "      <th>ExterQual</th>\n",
       "      <th>ExterCond</th>\n",
       "      <th>BsmtQual</th>\n",
       "      <th>...</th>\n",
       "      <th>SaleType_ConLw</th>\n",
       "      <th>SaleType_New</th>\n",
       "      <th>SaleType_Oth</th>\n",
       "      <th>SaleType_WD</th>\n",
       "      <th>SaleCondition_Abnorml</th>\n",
       "      <th>SaleCondition_AdjLand</th>\n",
       "      <th>SaleCondition_Alloca</th>\n",
       "      <th>SaleCondition_Family</th>\n",
       "      <th>SaleCondition_Normal</th>\n",
       "      <th>SaleCondition_Partial</th>\n",
       "    </tr>\n",
       "  </thead>\n",
       "  <tbody>\n",
       "    <tr>\n",
       "      <th>0</th>\n",
       "      <td>4.189655</td>\n",
       "      <td>9.042040</td>\n",
       "      <td>7</td>\n",
       "      <td>5</td>\n",
       "      <td>2003</td>\n",
       "      <td>2003</td>\n",
       "      <td>5.283204</td>\n",
       "      <td>4</td>\n",
       "      <td>1.386294</td>\n",
       "      <td>1.609438</td>\n",
       "      <td>...</td>\n",
       "      <td>0</td>\n",
       "      <td>0</td>\n",
       "      <td>0</td>\n",
       "      <td>1</td>\n",
       "      <td>0</td>\n",
       "      <td>0</td>\n",
       "      <td>0</td>\n",
       "      <td>0</td>\n",
       "      <td>1</td>\n",
       "      <td>0</td>\n",
       "    </tr>\n",
       "    <tr>\n",
       "      <th>1</th>\n",
       "      <td>4.394449</td>\n",
       "      <td>9.169623</td>\n",
       "      <td>6</td>\n",
       "      <td>8</td>\n",
       "      <td>1976</td>\n",
       "      <td>1976</td>\n",
       "      <td>0.000000</td>\n",
       "      <td>3</td>\n",
       "      <td>1.386294</td>\n",
       "      <td>1.609438</td>\n",
       "      <td>...</td>\n",
       "      <td>0</td>\n",
       "      <td>0</td>\n",
       "      <td>0</td>\n",
       "      <td>1</td>\n",
       "      <td>0</td>\n",
       "      <td>0</td>\n",
       "      <td>0</td>\n",
       "      <td>0</td>\n",
       "      <td>1</td>\n",
       "      <td>0</td>\n",
       "    </tr>\n",
       "    <tr>\n",
       "      <th>2</th>\n",
       "      <td>4.234107</td>\n",
       "      <td>9.328212</td>\n",
       "      <td>7</td>\n",
       "      <td>5</td>\n",
       "      <td>2001</td>\n",
       "      <td>2002</td>\n",
       "      <td>5.093750</td>\n",
       "      <td>4</td>\n",
       "      <td>1.386294</td>\n",
       "      <td>1.609438</td>\n",
       "      <td>...</td>\n",
       "      <td>0</td>\n",
       "      <td>0</td>\n",
       "      <td>0</td>\n",
       "      <td>1</td>\n",
       "      <td>0</td>\n",
       "      <td>0</td>\n",
       "      <td>0</td>\n",
       "      <td>0</td>\n",
       "      <td>1</td>\n",
       "      <td>0</td>\n",
       "    </tr>\n",
       "    <tr>\n",
       "      <th>3</th>\n",
       "      <td>4.110874</td>\n",
       "      <td>9.164401</td>\n",
       "      <td>7</td>\n",
       "      <td>5</td>\n",
       "      <td>1915</td>\n",
       "      <td>1970</td>\n",
       "      <td>0.000000</td>\n",
       "      <td>3</td>\n",
       "      <td>1.386294</td>\n",
       "      <td>1.386294</td>\n",
       "      <td>...</td>\n",
       "      <td>0</td>\n",
       "      <td>0</td>\n",
       "      <td>0</td>\n",
       "      <td>1</td>\n",
       "      <td>1</td>\n",
       "      <td>0</td>\n",
       "      <td>0</td>\n",
       "      <td>0</td>\n",
       "      <td>0</td>\n",
       "      <td>0</td>\n",
       "    </tr>\n",
       "    <tr>\n",
       "      <th>4</th>\n",
       "      <td>4.442651</td>\n",
       "      <td>9.565284</td>\n",
       "      <td>8</td>\n",
       "      <td>5</td>\n",
       "      <td>2000</td>\n",
       "      <td>2000</td>\n",
       "      <td>5.860786</td>\n",
       "      <td>4</td>\n",
       "      <td>1.386294</td>\n",
       "      <td>1.609438</td>\n",
       "      <td>...</td>\n",
       "      <td>0</td>\n",
       "      <td>0</td>\n",
       "      <td>0</td>\n",
       "      <td>1</td>\n",
       "      <td>0</td>\n",
       "      <td>0</td>\n",
       "      <td>0</td>\n",
       "      <td>0</td>\n",
       "      <td>1</td>\n",
       "      <td>0</td>\n",
       "    </tr>\n",
       "  </tbody>\n",
       "</table>\n",
       "<p>5 rows × 267 columns</p>\n",
       "</div>"
      ],
      "text/plain": [
       "   LotFrontage   LotArea  OverallQual  OverallCond  YearBuilt  YearRemodAdd  \\\n",
       "0     4.189655  9.042040            7            5       2003          2003   \n",
       "1     4.394449  9.169623            6            8       1976          1976   \n",
       "2     4.234107  9.328212            7            5       2001          2002   \n",
       "3     4.110874  9.164401            7            5       1915          1970   \n",
       "4     4.442651  9.565284            8            5       2000          2000   \n",
       "\n",
       "   MasVnrArea  ExterQual  ExterCond  BsmtQual          ...            \\\n",
       "0    5.283204          4   1.386294  1.609438          ...             \n",
       "1    0.000000          3   1.386294  1.609438          ...             \n",
       "2    5.093750          4   1.386294  1.609438          ...             \n",
       "3    0.000000          3   1.386294  1.386294          ...             \n",
       "4    5.860786          4   1.386294  1.609438          ...             \n",
       "\n",
       "   SaleType_ConLw  SaleType_New  SaleType_Oth  SaleType_WD  \\\n",
       "0               0             0             0            1   \n",
       "1               0             0             0            1   \n",
       "2               0             0             0            1   \n",
       "3               0             0             0            1   \n",
       "4               0             0             0            1   \n",
       "\n",
       "   SaleCondition_Abnorml  SaleCondition_AdjLand  SaleCondition_Alloca  \\\n",
       "0                      0                      0                     0   \n",
       "1                      0                      0                     0   \n",
       "2                      0                      0                     0   \n",
       "3                      1                      0                     0   \n",
       "4                      0                      0                     0   \n",
       "\n",
       "   SaleCondition_Family  SaleCondition_Normal  SaleCondition_Partial  \n",
       "0                     0                     1                      0  \n",
       "1                     0                     1                      0  \n",
       "2                     0                     1                      0  \n",
       "3                     0                     0                      0  \n",
       "4                     0                     1                      0  \n",
       "\n",
       "[5 rows x 267 columns]"
      ]
     },
     "execution_count": 37,
     "metadata": {},
     "output_type": "execute_result"
    }
   ],
   "source": [
    "X_train.head()"
   ]
  },
  {
   "cell_type": "markdown",
   "metadata": {},
   "source": [
    "#### Lasso Model"
   ]
  },
  {
   "cell_type": "code",
   "execution_count": 40,
   "metadata": {
    "collapsed": true
   },
   "outputs": [],
   "source": [
    "lasso = Lasso()"
   ]
  },
  {
   "cell_type": "code",
   "execution_count": 41,
   "metadata": {
    "collapsed": false
   },
   "outputs": [
    {
     "data": {
      "text/plain": [
       "Lasso(alpha=1.0, copy_X=True, fit_intercept=True, max_iter=1000,\n",
       "   normalize=False, positive=False, precompute=False, random_state=None,\n",
       "   selection='cyclic', tol=0.0001, warm_start=False)"
      ]
     },
     "execution_count": 41,
     "metadata": {},
     "output_type": "execute_result"
    }
   ],
   "source": [
    "lasso.fit(X_train,y)"
   ]
  },
  {
   "cell_type": "code",
   "execution_count": 78,
   "metadata": {
    "collapsed": false
   },
   "outputs": [],
   "source": [
    "lasso_predictions = lasso.predict(X_test)"
   ]
  },
  {
   "cell_type": "code",
   "execution_count": 87,
   "metadata": {
    "collapsed": false
   },
   "outputs": [],
   "source": [
    "lasso_predictions = pd.DataFrame(lasso_predictions)\n",
    "lasso_data = pd.concat([test_id,lasso_predictions],axis=1)\n",
    "lasso_data.columns = ['Id','SalePrice']"
   ]
  },
  {
   "cell_type": "code",
   "execution_count": 91,
   "metadata": {
    "collapsed": false
   },
   "outputs": [],
   "source": [
    "lasso_data.to_csv('results/lasso.csv',index=False)"
   ]
  },
  {
   "cell_type": "code",
   "execution_count": 93,
   "metadata": {
    "collapsed": false
   },
   "outputs": [
    {
     "data": {
      "text/html": [
       "<div>\n",
       "<table border=\"1\" class=\"dataframe\">\n",
       "  <thead>\n",
       "    <tr style=\"text-align: right;\">\n",
       "      <th></th>\n",
       "      <th>Id</th>\n",
       "      <th>SalePrice</th>\n",
       "    </tr>\n",
       "  </thead>\n",
       "  <tbody>\n",
       "    <tr>\n",
       "      <th>758</th>\n",
       "      <td>2219</td>\n",
       "      <td>-2155.297892</td>\n",
       "    </tr>\n",
       "    <tr>\n",
       "      <th>960</th>\n",
       "      <td>2421</td>\n",
       "      <td>-16007.809716</td>\n",
       "    </tr>\n",
       "    <tr>\n",
       "      <th>1139</th>\n",
       "      <td>2600</td>\n",
       "      <td>-26317.831510</td>\n",
       "    </tr>\n",
       "  </tbody>\n",
       "</table>\n",
       "</div>"
      ],
      "text/plain": [
       "        Id     SalePrice\n",
       "758   2219  -2155.297892\n",
       "960   2421 -16007.809716\n",
       "1139  2600 -26317.831510"
      ]
     },
     "execution_count": 93,
     "metadata": {},
     "output_type": "execute_result"
    }
   ],
   "source": [
    "lasso_data[lasso_data['SalePrice']<0]"
   ]
  },
  {
   "cell_type": "code",
   "execution_count": null,
   "metadata": {
    "collapsed": true
   },
   "outputs": [],
   "source": []
  }
 ],
 "metadata": {
  "kernelspec": {
   "display_name": "Python 3",
   "language": "python",
   "name": "python3"
  },
  "language_info": {
   "codemirror_mode": {
    "name": "ipython",
    "version": 3
   },
   "file_extension": ".py",
   "mimetype": "text/x-python",
   "name": "python",
   "nbconvert_exporter": "python",
   "pygments_lexer": "ipython3",
   "version": "3.6.0"
  }
 },
 "nbformat": 4,
 "nbformat_minor": 2
}
